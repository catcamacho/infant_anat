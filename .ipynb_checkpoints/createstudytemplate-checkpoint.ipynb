{
 "cells": [
  {
   "cell_type": "code",
   "execution_count": null,
   "metadata": {
    "collapsed": true,
    "deletable": true,
    "editable": true
   },
   "outputs": [],
   "source": [
    "import os\n",
    "from os.path import join as opj\n",
    "import nipype.interfaces.utility as util\n",
    "import nipype.interfaces.ants as ants\n",
    "import nipype.interfaces.io as io\n",
    "from nipype.workflows.smri.ants import ANTSTemplateBuildSingleIterationWF\n",
    "import nipype.pipeline.engine as pe \n",
    "\n",
    "# Study specific variables\n",
    "project_home = '/Users/myelin/Dropbox/Projects/TH_NAR_ASL/proc'\n",
    "subjects_dir = project_home\n",
    "raw_dir = project_home + '/raw'\n",
    "subjects_list = os.listdir(raw_dir)\n",
    "output_dir = project_home + '/proc'\n",
    "wkflow_dir = project_home + '/workflows'"
   ]
  },
  {
   "cell_type": "code",
   "execution_count": null,
   "metadata": {
    "collapsed": true,
    "deletable": true,
    "editable": true
   },
   "outputs": [],
   "source": [
    "## NODES\n",
    "# Data handling Nodes\n",
    "datasource = pe.Node(interface=util.IdentityInterface(fields=['imageList']),\n",
    "                     run_without_submitting=True,\n",
    "                     name='InputImages')\n",
    "datasource.inputs.imageList = input_images\n",
    "datasource.inputs.sort_filelist = True\n",
    "\n",
    "datasink = pe.Node(io.DataSink(), name=\"datasink\")\n",
    "datasink.inputs.base_directory = os.path.join(requestedPath, \"results\")"
   ]
  },
  {
   "cell_type": "code",
   "execution_count": null,
   "metadata": {
    "collapsed": true
   },
   "outputs": [],
   "source": [
    "# Template builder nodes\n",
    "\n",
    "initAvg = pe.Node(interface=ants.AverageImages(), name='initAvg')\n",
    "initAvg.inputs.dimension = 3\n",
    "initAvg.inputs.normalize = True\n",
    "\n",
    "iteration1 = ANTSTemplateBuildSingleIterationWF('iteration01')\n",
    "\n",
    "iteration2 = ANTSTemplateBuildSingleIterationWF('iteration02')"
   ]
  },
  {
   "cell_type": "code",
   "execution_count": null,
   "metadata": {
    "collapsed": true,
    "deletable": true,
    "editable": true
   },
   "outputs": [],
   "source": [
    "# build the workflow\n",
    "\n",
    "tbuilder = pe.Workflow(name=\"ANTSTemplateBuilder\")\n",
    "tbuilder.base_dir = requestedPath\n",
    "\n",
    "templatebuilder.connect([(datasource,initAvg, [('imageList','images')]),\n",
    "                         (initAvg, iteration1,[('output_average_image','fixed_image')]),\n",
    "                         (datasource, iteration1,[('imageList','images')]),\n",
    "                         (datasource, iteration1, [('passiveImagesDictionariesList','ListOfPassiveImagesDictionaries')]),\n",
    "                         (iteration1, iteration2, [('template', 'fixed_image')]),\n",
    "                         (datasource, iteration2, [('imageList', 'images')]),\n",
    "                         (datasource, iteration2, [('passiveImagesDictionariesList', 'ListOfPassiveImagesDictionaries')]),\n",
    "                         (iteration2, datasink, [('template', 'PrimaryTemplate')]),\n",
    "                         (iteration2, datasink, [('passive_deformed_templates', 'PassiveTemplate')]),\n",
    "                         (initAvg, datasink, [('output_average_image', 'PreRegisterAverage')])\n",
    "                        ])\n",
    "templatebuilder.base_dir = opj(wkflow_dir)\n",
    "templatebuilder.write_graph(graph2use='flat')\n",
    "templatebuilder.run('MultiProc',plugin_args={'n_procs':2})"
   ]
  }
 ],
 "metadata": {
  "kernelspec": {
   "display_name": "Python 2",
   "language": "python",
   "name": "python2"
  },
  "language_info": {
   "codemirror_mode": {
    "name": "ipython",
    "version": 2
   },
   "file_extension": ".py",
   "mimetype": "text/x-python",
   "name": "python",
   "nbconvert_exporter": "python",
   "pygments_lexer": "ipython2",
   "version": "2.7.12"
  }
 },
 "nbformat": 4,
 "nbformat_minor": 2
}
