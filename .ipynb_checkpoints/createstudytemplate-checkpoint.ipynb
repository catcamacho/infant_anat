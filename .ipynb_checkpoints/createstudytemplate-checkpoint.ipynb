{
 "cells": [
  {
   "cell_type": "code",
   "execution_count": null,
   "metadata": {
    "collapsed": true
   },
   "outputs": [],
   "source": [
    "from __future__ import print_function, unicode_literals\n",
    "from builtins import open\n",
    "from future import standard_library\n",
    "standard_library.install_aliases()\n",
    "\n",
    "import os\n",
    "import nipype.interfaces.utility as util\n",
    "import nipype.interfaces.ants as ants\n",
    "import nipype.interfaces.io as io\n",
    "from nipype.workflows.smri.ants import ANTSTemplateBuildSingleIterationWF\n",
    "import nipype.pipeline.engine as pe \n",
    "from urllib import request, error, parse\n",
    "\n",
    "# Study specific variables\n"
   ]
  },
  {
   "cell_type": "code",
   "execution_count": null,
   "metadata": {
    "collapsed": true
   },
   "outputs": [],
   "source": [
    "## NODES\n",
    "# Data handling Nodes\n",
    "datasource = pe.Node(interface=util.IdentityInterface(fields=['imageList', 'passiveImagesDictionariesList']),\n",
    "                     run_without_submitting=True,\n",
    "                     name='InputImages')\n",
    "datasource.inputs.imageList = input_images\n",
    "datasource.inputs.passiveImagesDictionariesList = input_passive_images\n",
    "datasource.inputs.sort_filelist = True\n",
    "\n",
    "datasink = pe.Node(io.DataSink(), name=\"datasink\")\n",
    "datasink.inputs.base_directory = os.path.join(requestedPath, \"results\")\n",
    "\n",
    "# Template builder nodes\n",
    "\n",
    "buildTemplateIteration1 = ANTSTemplateBuildSingleIterationWF('iteration01')\n",
    "\n",
    "buildTemplateIteration2 = ANTSTemplateBuildSingleIterationWF('iteration02')\n",
    "\n",
    "initAvg = pe.Node(interface=ants.AverageImages(), name='initAvg')\n",
    "initAvg.inputs.dimension = 3\n",
    "initAvg.inputs.normalize = True"
   ]
  },
  {
   "cell_type": "code",
   "execution_count": null,
   "metadata": {
    "collapsed": true
   },
   "outputs": [],
   "source": [
    "# build the workflow\n",
    "\n",
    "tbuilder = pe.Workflow(name=\"ANTSTemplateBuilder\")\n",
    "tbuilder.base_dir = requestedPath\n",
    "\n",
    "tbuilder.connect(datasource, \"imageList\", initAvg, \"images\")\n",
    "tbuilder.connect(initAvg, 'output_average_image', buildTemplateIteration1, 'inputspec.fixed_image')\n",
    "tbuilder.connect(datasource, 'imageList', buildTemplateIteration1, 'inputspec.images')\n",
    "tbuilder.connect(datasource, 'passiveImagesDictionariesList', buildTemplateIteration1, 'inputspec.ListOfPassiveImagesDictionaries')\n",
    "tbuilder.connect(buildTemplateIteration1, 'outputspec.template', buildTemplateIteration2, 'inputspec.fixed_image')\n",
    "tbuilder.connect(datasource, 'imageList', buildTemplateIteration2, 'inputspec.images')\n",
    "tbuilder.connect(datasource, 'passiveImagesDictionariesList', buildTemplateIteration2, 'inputspec.ListOfPassiveImagesDictionaries')\n",
    "tbuilder.connect(buildTemplateIteration2, 'outputspec.template', datasink, 'PrimaryTemplate')\n",
    "tbuilder.connect(buildTemplateIteration2, 'outputspec.passive_deformed_templates', datasink, 'PassiveTemplate')\n",
    "tbuilder.connect(initAvg, 'output_average_image', datasink, 'PreRegisterAverage')\n",
    "\n",
    "tbuilder.run()"
   ]
  }
 ],
 "metadata": {
  "kernelspec": {
   "display_name": "Python 2",
   "language": "python",
   "name": "python2"
  },
  "language_info": {
   "codemirror_mode": {
    "name": "ipython",
    "version": 2
   },
   "file_extension": ".py",
   "mimetype": "text/x-python",
   "name": "python",
   "nbconvert_exporter": "python",
   "pygments_lexer": "ipython2",
   "version": "2.7.11"
  }
 },
 "nbformat": 4,
 "nbformat_minor": 2
}
